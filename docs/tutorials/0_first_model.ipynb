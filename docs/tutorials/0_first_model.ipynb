{
  "cells": [
    {
      "cell_type": "markdown",
      "metadata": {
        "id": "MhTB782Tp9ma"
      },
      "source": [
        "# Creating Your First Model\n",
        "\n",
        "### The Boltzmann Wealth Model"
      ]
    },
    {
      "cell_type": "code",
      "source": [
        "graph={\n",
        "    'S':['A','B'],\n",
        "    'A':['C','D'],\n",
        "    'B':['G','H'],\n",
        "    'C':['E','F'],\n",
        "    'G':['I'],\n",
        "    'E':['K'],\n",
        "    'F':[],\n",
        "    'D':[],\n",
        "    'H':[],\n",
        "    'K':[],\n",
        "    'I':[]\n",
        "}\n",
        "visited=[]\n",
        "queue=[]\n",
        "parent={}\n",
        "def bfs(visited,graph,node,target):\n",
        "  visited.append(node)\n",
        "  queue.append(node)\n",
        "  while queue:\n",
        "    m=queue.pop(0)\n",
        "    print(m,end=\" \")\n",
        "    if m==target:\n",
        "      print(f\"Reached the target{target}\")\n",
        "      return\n",
        "    for neighbour in graph[m]:\n",
        "      if neighbour not in visited:\n",
        "        visited.append(neighbour)\n",
        "        queue.append(neighbour)\n",
        "        parent[neighbour]=m# int his line ew are giving the parent dictionary its values\n",
        "print(\"The breadth first search to reach the target node\")\n",
        "bfs(visited,graph,'S','K')\n",
        "def path(target):\n",
        "  path=[target]\n",
        "  while target in parent:\n",
        "      target=parent[target]#we are acceessing from the parent dictionary.\n",
        "      path.append(target)\n",
        "  path.reverse()\n",
        "  return path\n",
        "print(\"The path to k is:\",path('K'))"
      ],
      "metadata": {
        "id": "ACKYJvTWsIMZ",
        "outputId": "d49afbe9-ac47-4a87-96ca-8d4a8bdb8139",
        "colab": {
          "base_uri": "https://localhost:8080/"
        }
      },
      "execution_count": 26,
      "outputs": [
        {
          "output_type": "stream",
          "name": "stdout",
          "text": [
            "The breadth first search to reach the target node\n",
            "S A B C D G H E F I K Reached the targetK\n",
            "The path to k is: ['S', 'A', 'C', 'E', 'K']\n"
          ]
        }
      ]
    },
    {
      "cell_type": "code",
      "source": [
        "graph={\n",
        "    'S':['A','H'],\n",
        "    'A':['B','C'],\n",
        "    'B':['D','E'],\n",
        "    'C':['E','G'],\n",
        "    'H':['I','J'],\n",
        "    'I':['K'],\n",
        "    'E':[],\n",
        "    'D':[],\n",
        "    'G':[],\n",
        "    'K':[],\n",
        "    'J':[]\n",
        "}\n",
        "visited=[]\n",
        "queue=[]\n",
        "parent={}\n",
        "def bfs(visited,graph,node,target):\n",
        "  visited.append(node)\n",
        "  queue.append(node)\n",
        "  while queue:\n",
        "    m=queue.pop(0)\n",
        "    print(m,end=\" \")\n",
        "    if m==target:\n",
        "      print(f\"Reached the target{target}\")\n",
        "      return\n",
        "    for neighbour in graph[m]:\n",
        "      if neighbour not in visited:\n",
        "        visited.append(neighbour)\n",
        "        queue.append(neighbour)\n",
        "        parent[neighbour]=m# int his line ew are giving the parent dictionary its values\n",
        "print(\"The breadth first search to reach the target node\")\n",
        "bfs(visited,graph,'S','K')\n"
      ],
      "metadata": {
        "id": "bUXnp-iY18uZ",
        "outputId": "90dbd1fb-2eb9-4100-95c4-0b7831d16464",
        "colab": {
          "base_uri": "https://localhost:8080/"
        }
      },
      "execution_count": 27,
      "outputs": [
        {
          "output_type": "stream",
          "name": "stdout",
          "text": [
            "The breadth first search to reach the target node\n",
            "S A H B C I J D E G K Reached the targetK\n"
          ]
        }
      ]
    },
    {
      "cell_type": "code",
      "source": [
        "graph={\n",
        "   'S':['A','H'],\n",
        "    'A':['B','C'],\n",
        "    'B':['D','E'],\n",
        "    'C':['E','G'],\n",
        "    'H':['I','J'],\n",
        "    'I':['K'],\n",
        "    'E':[],\n",
        "    'D':[],\n",
        "    'G':[],\n",
        "    'K':[],\n",
        "    'J':[]\n",
        "}\n",
        "visited=set()\n",
        "parebt={}\n",
        "found=False\n",
        "def dfs(graph,visited,node,target):\n",
        "  global found\n",
        "  if found:\n",
        "    return\n",
        "  if node not in visited:\n",
        "    print(node,end=\" \")\n",
        "    visited.add(node)\n",
        "    if node==target:\n",
        "      print(f\"Reached the target{target}\")\n",
        "      found=True\n",
        "      return\n",
        "    for neighbour in graph[node]:\n",
        "      parent[neighbour]=node\n",
        "      dfs(graph,visited,neighbour,target)\n",
        "print(\"The depth first traversal is:\")\n",
        "dfs(graph,visited,'S','K')"
      ],
      "metadata": {
        "id": "_ED-bLaM2emC",
        "outputId": "62144783-85d5-40cd-c625-49d026a7ac2d",
        "colab": {
          "base_uri": "https://localhost:8080/"
        }
      },
      "execution_count": 28,
      "outputs": [
        {
          "output_type": "stream",
          "name": "stdout",
          "text": [
            "The depth first traversal is:\n",
            "S A B D E C G H I K Reached the targetK\n"
          ]
        }
      ]
    },
    {
      "cell_type": "code",
      "source": [
        "graph={\n",
        "    'S':['A','B'],\n",
        "    'A':['C','D'],\n",
        "    'B':['G','H'],\n",
        "    'C':['E','F'],\n",
        "    'G':['I'],\n",
        "    'E':['K'],\n",
        "    'F':[],\n",
        "    'D':[],\n",
        "    'H':[],\n",
        "    'K':[],\n",
        "    'I':[]\n",
        "}\n",
        "visited=set()\n",
        "parebt={}\n",
        "found=False\n",
        "def dfs(graph,visited,node,target):\n",
        "  global found\n",
        "  if found:\n",
        "    return\n",
        "  if node not in visited:\n",
        "    print(node,end=\" \")\n",
        "    visited.add(node)\n",
        "    if node==target:\n",
        "      print(f\"Reached the target{target}\")\n",
        "      found=True\n",
        "      return\n",
        "    for neighbour in graph[node]:\n",
        "      parent[neighbour]=node\n",
        "      dfs(graph,visited,neighbour,target)\n",
        "print(\"The depth first traversal is:\")\n",
        "dfs(graph,visited,'S','K')\n",
        "def path(target):\n",
        "  path=[target]\n",
        "  while target in parent:\n",
        "    target=parent[target]\n",
        "    path.append(target)\n",
        "  path.reverse()\n",
        "  return path\n",
        "print(\"The path to k is \",path('K'))"
      ],
      "metadata": {
        "id": "V55JeZOCycAE",
        "outputId": "391d3d9b-caf9-4c6e-f64a-76d52390f0d1",
        "colab": {
          "base_uri": "https://localhost:8080/"
        }
      },
      "execution_count": 29,
      "outputs": [
        {
          "output_type": "stream",
          "name": "stdout",
          "text": [
            "The depth first traversal is:\n",
            "S A C E K Reached the targetK\n",
            "The path to k is  ['S', 'A', 'C', 'E', 'K']\n"
          ]
        }
      ]
    },
    {
      "cell_type": "code",
      "source": [
        "n=int(input(\"Enetr number of nodes\"))\n",
        "x=int(input(\"Enetr the level of nodes\"))\n",
        "graph=[[] for _ in range(n+1)]\n",
        "for _ in range(n-1):\n",
        "  u,v=map(int,input().split())\n",
        "  graph[u].append(v)\n",
        "  graph[v].append(u)\n",
        "visited=[False]*(n+1)\n",
        "count=0\n",
        "def dfs(node,depth):\n",
        "  global count\n",
        "  visited[node]=True\n",
        "  if depth==x:\n",
        "   count=count+1\n",
        "  for neighbour in graph[node]:\n",
        "    if not visited[neighbour]:\n",
        "      dfs(neighbour,depth+1)\n",
        "dfs(1,1)\n",
        "print(f\"The number of nodes in {x} is {count}\")"
      ],
      "metadata": {
        "id": "0D9zxiY78J1a",
        "outputId": "46220e8b-297d-4a8f-e6a5-11c861b17aad",
        "colab": {
          "base_uri": "https://localhost:8080/",
          "height": 365
        }
      },
      "execution_count": 30,
      "outputs": [
        {
          "output_type": "error",
          "ename": "KeyboardInterrupt",
          "evalue": "Interrupted by user",
          "traceback": [
            "\u001b[0;31m---------------------------------------------------------------------------\u001b[0m",
            "\u001b[0;31mKeyboardInterrupt\u001b[0m                         Traceback (most recent call last)",
            "\u001b[0;32m/tmp/ipython-input-801650274.py\u001b[0m in \u001b[0;36m<cell line: 0>\u001b[0;34m()\u001b[0m\n\u001b[0;32m----> 1\u001b[0;31m \u001b[0mn\u001b[0m\u001b[0;34m=\u001b[0m\u001b[0mint\u001b[0m\u001b[0;34m(\u001b[0m\u001b[0minput\u001b[0m\u001b[0;34m(\u001b[0m\u001b[0;34m\"Enetr number of nodes\"\u001b[0m\u001b[0;34m)\u001b[0m\u001b[0;34m)\u001b[0m\u001b[0;34m\u001b[0m\u001b[0;34m\u001b[0m\u001b[0m\n\u001b[0m\u001b[1;32m      2\u001b[0m \u001b[0mx\u001b[0m\u001b[0;34m=\u001b[0m\u001b[0mint\u001b[0m\u001b[0;34m(\u001b[0m\u001b[0minput\u001b[0m\u001b[0;34m(\u001b[0m\u001b[0;34m\"Enetr the level of nodes\"\u001b[0m\u001b[0;34m)\u001b[0m\u001b[0;34m)\u001b[0m\u001b[0;34m\u001b[0m\u001b[0;34m\u001b[0m\u001b[0m\n\u001b[1;32m      3\u001b[0m \u001b[0mgraph\u001b[0m\u001b[0;34m=\u001b[0m\u001b[0;34m[\u001b[0m\u001b[0;34m[\u001b[0m\u001b[0;34m]\u001b[0m \u001b[0;32mfor\u001b[0m \u001b[0m_\u001b[0m \u001b[0;32min\u001b[0m \u001b[0mrange\u001b[0m\u001b[0;34m(\u001b[0m\u001b[0mn\u001b[0m\u001b[0;34m+\u001b[0m\u001b[0;36m1\u001b[0m\u001b[0;34m)\u001b[0m\u001b[0;34m]\u001b[0m\u001b[0;34m\u001b[0m\u001b[0;34m\u001b[0m\u001b[0m\n\u001b[1;32m      4\u001b[0m \u001b[0;32mfor\u001b[0m \u001b[0m_\u001b[0m \u001b[0;32min\u001b[0m \u001b[0mrange\u001b[0m\u001b[0;34m(\u001b[0m\u001b[0mn\u001b[0m\u001b[0;34m-\u001b[0m\u001b[0;36m1\u001b[0m\u001b[0;34m)\u001b[0m\u001b[0;34m:\u001b[0m\u001b[0;34m\u001b[0m\u001b[0;34m\u001b[0m\u001b[0m\n\u001b[1;32m      5\u001b[0m   \u001b[0mu\u001b[0m\u001b[0;34m,\u001b[0m\u001b[0mv\u001b[0m\u001b[0;34m=\u001b[0m\u001b[0mmap\u001b[0m\u001b[0;34m(\u001b[0m\u001b[0mint\u001b[0m\u001b[0;34m,\u001b[0m\u001b[0minput\u001b[0m\u001b[0;34m(\u001b[0m\u001b[0;34m)\u001b[0m\u001b[0;34m.\u001b[0m\u001b[0msplit\u001b[0m\u001b[0;34m(\u001b[0m\u001b[0;34m)\u001b[0m\u001b[0;34m)\u001b[0m\u001b[0;34m\u001b[0m\u001b[0;34m\u001b[0m\u001b[0m\n",
            "\u001b[0;32m/usr/local/lib/python3.11/dist-packages/ipykernel/kernelbase.py\u001b[0m in \u001b[0;36mraw_input\u001b[0;34m(self, prompt)\u001b[0m\n\u001b[1;32m   1175\u001b[0m                 \u001b[0;34m\"raw_input was called, but this frontend does not support input requests.\"\u001b[0m\u001b[0;34m\u001b[0m\u001b[0;34m\u001b[0m\u001b[0m\n\u001b[1;32m   1176\u001b[0m             )\n\u001b[0;32m-> 1177\u001b[0;31m         return self._input_request(\n\u001b[0m\u001b[1;32m   1178\u001b[0m             \u001b[0mstr\u001b[0m\u001b[0;34m(\u001b[0m\u001b[0mprompt\u001b[0m\u001b[0;34m)\u001b[0m\u001b[0;34m,\u001b[0m\u001b[0;34m\u001b[0m\u001b[0;34m\u001b[0m\u001b[0m\n\u001b[1;32m   1179\u001b[0m             \u001b[0mself\u001b[0m\u001b[0;34m.\u001b[0m\u001b[0m_parent_ident\u001b[0m\u001b[0;34m[\u001b[0m\u001b[0;34m\"shell\"\u001b[0m\u001b[0;34m]\u001b[0m\u001b[0;34m,\u001b[0m\u001b[0;34m\u001b[0m\u001b[0;34m\u001b[0m\u001b[0m\n",
            "\u001b[0;32m/usr/local/lib/python3.11/dist-packages/ipykernel/kernelbase.py\u001b[0m in \u001b[0;36m_input_request\u001b[0;34m(self, prompt, ident, parent, password)\u001b[0m\n\u001b[1;32m   1217\u001b[0m             \u001b[0;32mexcept\u001b[0m \u001b[0mKeyboardInterrupt\u001b[0m\u001b[0;34m:\u001b[0m\u001b[0;34m\u001b[0m\u001b[0;34m\u001b[0m\u001b[0m\n\u001b[1;32m   1218\u001b[0m                 \u001b[0;31m# re-raise KeyboardInterrupt, to truncate traceback\u001b[0m\u001b[0;34m\u001b[0m\u001b[0;34m\u001b[0m\u001b[0m\n\u001b[0;32m-> 1219\u001b[0;31m                 \u001b[0;32mraise\u001b[0m \u001b[0mKeyboardInterrupt\u001b[0m\u001b[0;34m(\u001b[0m\u001b[0;34m\"Interrupted by user\"\u001b[0m\u001b[0;34m)\u001b[0m \u001b[0;32mfrom\u001b[0m \u001b[0;32mNone\u001b[0m\u001b[0;34m\u001b[0m\u001b[0;34m\u001b[0m\u001b[0m\n\u001b[0m\u001b[1;32m   1220\u001b[0m             \u001b[0;32mexcept\u001b[0m \u001b[0mException\u001b[0m\u001b[0;34m:\u001b[0m\u001b[0;34m\u001b[0m\u001b[0;34m\u001b[0m\u001b[0m\n\u001b[1;32m   1221\u001b[0m                 \u001b[0mself\u001b[0m\u001b[0;34m.\u001b[0m\u001b[0mlog\u001b[0m\u001b[0;34m.\u001b[0m\u001b[0mwarning\u001b[0m\u001b[0;34m(\u001b[0m\u001b[0;34m\"Invalid Message:\"\u001b[0m\u001b[0;34m,\u001b[0m \u001b[0mexc_info\u001b[0m\u001b[0;34m=\u001b[0m\u001b[0;32mTrue\u001b[0m\u001b[0;34m)\u001b[0m\u001b[0;34m\u001b[0m\u001b[0;34m\u001b[0m\u001b[0m\n",
            "\u001b[0;31mKeyboardInterrupt\u001b[0m: Interrupted by user"
          ]
        }
      ]
    },
    {
      "cell_type": "code",
      "source": [
        "maze=[\n",
        "    [0,0,0,0,0],\n",
        "    [0,0,0,0,0],\n",
        "    [0,0,0,0,0],\n",
        "    [0,0,0,0,0]\n",
        "]\n",
        "maze[0][1]=1\n",
        "maze[1][3]=1\n",
        "maze[1][4]=1\n",
        "maze[2][1]=1\n",
        "maze[3][2]=1\n",
        "rows=len(maze)\n",
        "cols=len(maze[0])\n",
        "visited=[[False for _ in range(cols)]for _ in range(rows)]\n",
        "start=(0,0)\n",
        "end=(3,4)\n",
        "directions=[(-1,0),(1,0),(0,-1),(0,1)]\n",
        "path=[]\n",
        "def is_valid(r,c):\n",
        "  return 0<=r<rows and 0<=c<cols and maze[r][c]==0 and not visited[r][c]\n",
        "def dfs(r,c):\n",
        "  if (r,c)==end:\n",
        "    path.append((r,c))\n",
        "    return True\n",
        "  visited[r][c]=True\n",
        "  path.append((r,c))\n",
        "  for dr,dc in directions:\n",
        "    nr=r+dr\n",
        "    nc=c+dc\n",
        "    if is_valid(nr,nc):\n",
        "      if dfs(nr,nc):\n",
        "        return True\n",
        "  path.pop()\n",
        "  return False\n",
        "if dfs(*start):\n",
        "  print(\"Path found using dfs\")\n",
        "  for p in path:\n",
        "    print(p)\n",
        "else:\n",
        "  print(\"No path found\")\n",
        ""
      ],
      "metadata": {
        "id": "nV7gi6jhF_Hg",
        "outputId": "509f4bbe-1313-4506-d2a6-f0f5e2aa5727",
        "colab": {
          "base_uri": "https://localhost:8080/"
        }
      },
      "execution_count": 31,
      "outputs": [
        {
          "output_type": "stream",
          "name": "stdout",
          "text": [
            "Path found using dfs\n",
            "(0, 0)\n",
            "(1, 0)\n",
            "(1, 1)\n",
            "(1, 2)\n",
            "(2, 2)\n",
            "(2, 3)\n",
            "(3, 3)\n",
            "(3, 4)\n"
          ]
        }
      ]
    },
    {
      "cell_type": "markdown",
      "metadata": {
        "id": "4Y_-hYqlp9mg"
      },
      "source": [
        "**Important:**\n",
        "- If you are just exploring Mesa and want the fastest way to execute the code we recommend executing this tutorial online in a Colab notebook. [![Colab](https://colab.research.google.com/assets/colab-badge.svg)](https://colab.research.google.com/github/projectmesa/mesa/blob/main/docs/tutorials/0_first_model.ipynb) or if you do not have a Google account you can use [![Binder](https://mybinder.org/badge_logo.svg)](https://mybinder.org/v2/gh/projectmesa/mesa/main?labpath=docs%2Ftutorials%2F0_first_model.ipynb) (This can take 30 seconds to 5 minutes to load)\n",
        "- If you are running locally, please ensure you have the latest Mesa version installed.\n",
        "\n",
        "## Tutorial Description\n",
        "\n",
        "[Mesa](https://github.com/projectmesa/mesa) is a Python framework for [agent-based modeling](https://en.wikipedia.org/wiki/Agent-based_model). This tutorial is the first in a series of introductory tutorials that will assist you in getting started and discover some of the core features of Mesa.  The tutorial starts with the key pieces of a model and then progressively adds functionality.\n",
        "\n",
        "Should anyone find any errors, bugs, have a suggestion, or just are looking for clarification, let us know in our [chat](https://matrix.to/#/#project-mesa:matrix.org)!\n",
        "\n",
        "The premise of this tutorial is to create a starter-level model representing agents exchanging money."
      ]
    },
    {
      "cell_type": "markdown",
      "metadata": {
        "id": "GypPpdZJp9mh"
      },
      "source": [
        "## Model Description\n",
        "\n",
        "This is a simulated agent-based economy. In an agent-based economy, the behavior of an individual economic agent, such as a consumer or producer, is studied in a market environment.\n",
        "This model is drawn from the field econophysics, specifically a paper prepared by Drăgulescu et al. for additional information on the modeling assumptions used in this model. [Drăgulescu, 2002].\n",
        "\n",
        "The assumption that govern this model are:\n",
        "\n",
        "1. There are some number of agents.\n",
        "2. All agents begin with 1 unit of money.\n",
        "3. At every step of the model, an agent gives 1 unit of money (if they\n",
        "   have it) to some other agent.\n",
        "\n",
        "Even as a starter-level model it yields results that are both interesting and unexpected.\n",
        "\n",
        "Due to its simplicity and intriguing results, we found it to be a good starter model."
      ]
    },
    {
      "cell_type": "markdown",
      "metadata": {
        "id": "5P7JzEE_p9mj"
      },
      "source": [
        "### Tutorial Setup\n",
        "\n",
        "Create and activate a [virtual environment](http://docs.python-guide.org/en/latest/dev/virtualenvs/). *Python version 3.11 or higher is required*.\n",
        "\n",
        "Install Mesa:\n",
        "\n",
        "```bash\n",
        "pip install mesa[rec]\n",
        "```\n",
        "\n",
        "Install Jupyter notebook (optional):\n",
        "\n",
        "```bash\n",
        "pip install jupyter\n",
        "```\n",
        "\n",
        "Install [Seaborn](https://seaborn.pydata.org/) (which is used for data visualization):\n",
        "\n",
        "```bash\n",
        "pip install seaborn\n",
        "```"
      ]
    },
    {
      "cell_type": "markdown",
      "metadata": {
        "id": "NNL8WtQHp9mj"
      },
      "source": [
        "### IN COLAB? - Run the next cell"
      ]
    },
    {
      "cell_type": "raw",
      "metadata": {
        "vscode": {
          "languageId": "raw"
        },
        "id": "lxP-cPIcp9mj"
      },
      "source": [
        "%pip install --quiet mesa[rec]"
      ]
    },
    {
      "cell_type": "markdown",
      "metadata": {
        "id": "3MoHv85vp9mk"
      },
      "source": [
        "## Building the Sample Model\n",
        "\n",
        "After Mesa is installed a model can be built.\n",
        "\n",
        " This tutorial is written in [Jupyter](http://jupyter.org) to facilitate the explanation portions.\n",
        "\n",
        "Start Jupyter form the command line:\n",
        "\n",
        "```bash\n",
        "jupyter lab\n",
        "```\n",
        "\n",
        "Create a new notebook named `money_model.ipynb` (or whatever you want to call it)."
      ]
    },
    {
      "cell_type": "markdown",
      "metadata": {
        "id": "wS5Y9c6Tp9mk"
      },
      "source": [
        "### Import Dependencies\n",
        "This includes importing of dependencies needed for the tutorial."
      ]
    },
    {
      "cell_type": "code",
      "execution_count": null,
      "metadata": {
        "jupyter": {
          "outputs_hidden": false
        },
        "id": "zKPNBOJBp9mk"
      },
      "outputs": [],
      "source": [
        "# Has multi-dimensional arrays and matrices.\n",
        "# Has a large collection of mathematical functions to operate on these arrays.\n",
        "import numpy as np\n",
        "\n",
        "# Data manipulation and analysis.\n",
        "import pandas as pd\n",
        "\n",
        "# Data visualization tools.\n",
        "import seaborn as sns\n",
        "\n",
        "import mesa"
      ]
    },
    {
      "cell_type": "markdown",
      "metadata": {
        "id": "mwquq-zbp9mm"
      },
      "source": [
        "### Create Agent\n",
        "\n",
        "First create the agent. As the tutorial progresses, more functionality will be added to the agent.\n",
        "\n",
        "**Background:** Agents are the individual entities that act in the model. Mesa automatically assigns each agent that is created an integer as a `unique_id.`\n",
        "\n",
        "**Model-specific information:** Agents are the individuals that exchange money, in this case the amount of money an individual agent has is represented as wealth.\n",
        "\n",
        "**Code implementation:** This is done by creating a new class (or object) that extends `mesa.Agent` creating a subclass of  the `Agent` class from mesa. The new class is named `MoneyAgent`. The inherited code of the Mesa agent object can be found in the [mesa repo](https://github.com/projectmesa/mesa/blob/main/mesa/agent.py).\n",
        "\n",
        "The `MoneyAgent` class is created with the following code:"
      ]
    },
    {
      "cell_type": "code",
      "execution_count": null,
      "metadata": {
        "id": "u2GzACMmp9mm"
      },
      "outputs": [],
      "source": [
        "class MoneyAgent(mesa.Agent):\n",
        "    \"\"\"An agent with fixed initial wealth.\"\"\"\n",
        "\n",
        "    def __init__(self, model):\n",
        "        # Pass the parameters to the parent class.\n",
        "        super().__init__(model)\n",
        "\n",
        "        # Create the agent's variable and set the initial values.\n",
        "        self.wealth = 1"
      ]
    },
    {
      "cell_type": "markdown",
      "metadata": {
        "id": "THvYG2kfp9mn"
      },
      "source": [
        "### Create Model\n",
        "\n",
        "Next, create the model. This gives us the two basic classes of any Mesa ABM - the agent class (population of agent objects that doing something) and the manager class (a model object that manages the creation, activation, datacollection etc of the agents)\n",
        "\n",
        "**Background:** The model can be visualized as a list containing all the agents. The model creates, holds and manages all the agent objects, specifically in a dictionary. The model activates agents in discrete time steps.\n",
        "\n",
        "**Model-specific information:** When a model is created the number of agents within the model is specified. The model then creates the agents and places them in a set of agents.\n",
        "\n",
        "**Code implementation:** This is done by creating a new class (or object) that extends `mesa.Model` and calls `super().__init__()`, creating a subclass of the `Model` class from mesa. The new class is named `MoneyModel`.  The Mesa code you are using can be found in [model module](https://github.com/projectmesa/mesa/blob/main/mesa/model.py) and the AgentSet in the [agent module](https://github.com/projectmesa/mesa/blob/d7a3834c99a3be809abe2edc8b83610f3d4438ba/mesa/agent.py#L86). A critical point is that you can use the `seed` kwarg (keyword argument) to set a seed which controls the random number generator of the model class allowing for the reproducibility of results.\n",
        "\n",
        "The `MoneyModel` class is created with the following code:"
      ]
    },
    {
      "cell_type": "code",
      "execution_count": null,
      "metadata": {
        "id": "Ut-pPrRJp9mn"
      },
      "outputs": [],
      "source": [
        "class MoneyModel(mesa.Model):\n",
        "    \"\"\"A model with some number of agents.\"\"\"\n",
        "\n",
        "    def __init__(self, n, seed=None):\n",
        "        super().__init__(seed=seed)\n",
        "        self.num_agents = n\n",
        "        # Create agents\n",
        "        MoneyAgent.create_agents(model=self, n=n)"
      ]
    },
    {
      "cell_type": "markdown",
      "metadata": {
        "id": "ul_Wfe4Op9mn"
      },
      "source": [
        "### Making the Agents `do`\n",
        "\n",
        "With the basics of the Agent class and Model class created we can now activate the agents to `do` things\n",
        "\n",
        "**Background:** Mesa's `do` function calls agent functions to grow your ABM. A step is the smallest unit of time in the model, and is often referred to as a tick. The `do` function and Python functionality can be configured to activate agents in different orders. This can be important as the order in which agents are activated can impact the results of the model [Comer2014]. At each step of the model, one or more of the agents -- usually all of them -- are activated and take their own step, changing internally and/or interacting with one another or the environment.\n",
        "\n",
        "**Model-specific information:** For this section we will randomly reorder the Agent activation order using  `mesa.Agent.shuffle_do` and have the agents `step` function print the agent's unique id that they were assigned during the agent creation process.\n",
        "\n",
        "**Code implementation:** Using standard ABM convention we add a `step` function to the `MoneyModel` class which calls the `mesa.Agent.shuffle_do` function. We then pass into `shuffle_do` the parameter \"step\". This tells mesa to look for and execute the `step` function in our MoneyAgent class.  "
      ]
    },
    {
      "cell_type": "code",
      "execution_count": null,
      "metadata": {
        "id": "I3QSWnWIp9ms"
      },
      "outputs": [],
      "source": [
        "class MoneyAgent(mesa.Agent):\n",
        "    \"\"\"An agent with fixed initial wealth.\"\"\"\n",
        "\n",
        "    def __init__(self, model):\n",
        "        # Pass the parameters to the parent class.\n",
        "        super().__init__(model)\n",
        "\n",
        "        # Create the agent's attribute and set the initial values.\n",
        "        self.wealth = 1\n",
        "\n",
        "    def say_hi(self):\n",
        "        # The agent's step will go here.\n",
        "        # For demonstration purposes we will print the agent's unique_id\n",
        "        print(f\"Hi, I am an agent, you can call me {self.unique_id!s}.\")\n",
        "\n",
        "\n",
        "class MoneyModel(mesa.Model):\n",
        "    \"\"\"A model with some number of agents.\"\"\"\n",
        "\n",
        "    def __init__(self, n, seed=None):\n",
        "        super().__init__(seed=seed)\n",
        "        self.num_agents = n\n",
        "\n",
        "        # Create n agents\n",
        "        MoneyAgent.create_agents(model=self, n=n)\n",
        "\n",
        "    def step(self):\n",
        "        \"\"\"Advance the model by one step.\"\"\"\n",
        "        # This function psuedo-randomly reorders the list of agent objects and\n",
        "        # then iterates through calling the function passed in as the parameter\n",
        "        self.agents.shuffle_do(\"say_hi\")"
      ]
    },
    {
      "cell_type": "markdown",
      "metadata": {
        "id": "SMcXzXJjp9ms"
      },
      "source": [
        "### Running the Model\n",
        "We now have the pieces of a basic model. The model can be run by creating a model object and calling the step method. The model will run for one step and print the unique_id of each agent. You may run the model for multiple steps by calling the step method multiple times.\n",
        "\n",
        "Create the model object, and run it for one step:"
      ]
    },
    {
      "cell_type": "code",
      "execution_count": null,
      "metadata": {
        "id": "P7WxSwZtp9ms"
      },
      "outputs": [],
      "source": [
        "starter_model = MoneyModel(10)\n",
        "starter_model.step()"
      ]
    },
    {
      "cell_type": "code",
      "execution_count": null,
      "metadata": {
        "jupyter": {
          "outputs_hidden": false
        },
        "id": "GoG2YwHmp9mt"
      },
      "outputs": [],
      "source": [
        "# Run this step a few times and see what happens!\n",
        "starter_model.step()\n",
        "# Notice the order of the agents changes each time."
      ]
    },
    {
      "cell_type": "code",
      "execution_count": null,
      "metadata": {
        "id": "UdJWWZ92p9mt"
      },
      "outputs": [],
      "source": [
        "# Challenge: Change the seed from None to a number like 42 and see the impact"
      ]
    },
    {
      "cell_type": "code",
      "execution_count": null,
      "metadata": {
        "id": "ziIAZAqFp9mt"
      },
      "outputs": [],
      "source": [
        "# Challenge: Change `shuffle_do` to just `do` and see the impact"
      ]
    },
    {
      "cell_type": "markdown",
      "metadata": {
        "id": "vW8z-odfp9mt"
      },
      "source": [
        "### Exercise\n",
        "Modifying the code below to have every agent print out its `wealth` when it is activated."
      ]
    },
    {
      "cell_type": "code",
      "execution_count": null,
      "metadata": {
        "jupyter": {
          "outputs_hidden": false
        },
        "id": "BCNlt4bkp9mt"
      },
      "outputs": [],
      "source": [
        "class MoneyAgent(mesa.Agent):\n",
        "    \"\"\"An agent with fixed initial wealth.\"\"\"\n",
        "\n",
        "    def __init__(self, model):\n",
        "        # Pass the parameters to the parent class.\n",
        "        super().__init__(model)\n",
        "\n",
        "        # Create the agent's variable and set the initial values.\n",
        "        self.wealth = 1\n",
        "\n",
        "    def say_wealth(self):\n",
        "        # The agent's step will go here.\n",
        "        # FIXME: need to print the agent's wealth\n",
        "        print(\"Hi, I am an agent and I am broke!\")"
      ]
    },
    {
      "cell_type": "markdown",
      "metadata": {
        "id": "z7z_HtCAp9mu"
      },
      "source": [
        "Create a model for 12 Agents, and run it for a few steps to see the output."
      ]
    },
    {
      "cell_type": "code",
      "execution_count": null,
      "metadata": {
        "jupyter": {
          "outputs_hidden": false
        },
        "id": "LQHS_V5Ip9mu"
      },
      "outputs": [],
      "source": [
        "# Fixme: Create the model object, and run it"
      ]
    },
    {
      "cell_type": "markdown",
      "metadata": {
        "id": "mUFSe7Tbp9mu"
      },
      "source": [
        "### Agents Exchange\n",
        "\n",
        "Returning back to the MoneyAgent the actual exchange process is now going to be created.\n",
        "\n",
        "**Background:** This is where the agent's behavior as it relates to each step or tick of the model is defined.\n",
        "\n",
        "**Model-specific information:** In this case, the agent will check its wealth, and if it has money, give one unit of it away to another random agent.\n",
        "\n",
        "**Code implementation:** The agent's step method is called by `mesa.Agent.shuffle_do(\"exchange\")`during each step of the model. To allow the agent to choose another agent at random, we use the `model.random` random-number generator. This works just like Python's `random` module, but if a fixed seed is  set when the model is instantiated (see earlier challenge), this allows users to replicate a specific model run later. Once we identify this other agent object we increase their wealth by 1 and decrease this agents wealth by one.\n",
        "\n",
        "This updates the step function as shown below:"
      ]
    },
    {
      "cell_type": "code",
      "execution_count": null,
      "metadata": {
        "id": "J_LrJKVRp9mv"
      },
      "outputs": [],
      "source": [
        "class MoneyAgent(mesa.Agent):\n",
        "    \"\"\"An agent with fixed initial wealth.\"\"\"\n",
        "\n",
        "    def __init__(self, model):\n",
        "        # Pass the parameters to the parent class.\n",
        "        super().__init__(model)\n",
        "\n",
        "        # Create the agent's variable and set the initial values.\n",
        "        self.wealth = 1\n",
        "\n",
        "    def exchange(self):\n",
        "        # Verify agent has some wealth\n",
        "        if self.wealth > 0:\n",
        "            other_agent = self.random.choice(self.model.agents)\n",
        "            if other_agent is not None:\n",
        "                other_agent.wealth += 1\n",
        "                self.wealth -= 1\n",
        "\n",
        "\n",
        "class MoneyModel(mesa.Model):\n",
        "    \"\"\"A model with some number of agents.\"\"\"\n",
        "\n",
        "    def __init__(self, n):\n",
        "        super().__init__()\n",
        "        self.num_agents = n\n",
        "\n",
        "        # Create agents\n",
        "        MoneyAgent.create_agents(model=self, n=n)\n",
        "\n",
        "    def step(self):\n",
        "        \"\"\"Advance the model by one step.\"\"\"\n",
        "        # This function psuedo-randomly reorders the list of agent objects and\n",
        "        # then iterates through calling the function passed in as the parameter\n",
        "        self.agents.shuffle_do(\"exchange\")"
      ]
    },
    {
      "cell_type": "markdown",
      "metadata": {
        "id": "0D3dxl6Vp9mv"
      },
      "source": [
        "### Running your first model\n",
        "\n",
        "With exchange behavior added, it's time for the first rudimentary run of the model.\n",
        "\n",
        "Now let's create a model with 10 agents, and run it for 30 steps."
      ]
    },
    {
      "cell_type": "code",
      "execution_count": null,
      "metadata": {
        "id": "d0mRZ8w4p9mv"
      },
      "outputs": [],
      "source": [
        "model = MoneyModel(10)  # Tells the model to create 10 agents\n",
        "for _ in range(30):  # Runs the model for 30 steps;\n",
        "    model.step()\n",
        "\n",
        "# Note: An underscore is common convention for a variable that is not used."
      ]
    },
    {
      "cell_type": "markdown",
      "metadata": {
        "id": "B_W_Adtfp9mv"
      },
      "source": [
        "Next, we need to get some data out of the model. Specifically, we want to see the distribution of the agent's wealth.\n",
        "\n",
        " We can get the wealth values with list comprehension, and then use seaborn (or another graphics library) to visualize the data in a histogram."
      ]
    },
    {
      "cell_type": "code",
      "execution_count": null,
      "metadata": {
        "id": "9xz4rfHyp9mv"
      },
      "outputs": [],
      "source": [
        "agent_wealth = [a.wealth for a in model.agents]\n",
        "# Create a histogram with seaborn\n",
        "g = sns.histplot(agent_wealth, discrete=True)\n",
        "g.set(\n",
        "    title=\"Wealth distribution\", xlabel=\"Wealth\", ylabel=\"number of agents\"\n",
        ");  # The semicolon is just to avoid printing the object representation"
      ]
    },
    {
      "cell_type": "markdown",
      "metadata": {
        "id": "NcnQ3en5p9mw"
      },
      "source": [
        "To get a better idea of how a model behaves, we can create multiple model objects and see the distribution that emerges from all of them.\n",
        "\n",
        " We can do this with a nested for loop:"
      ]
    },
    {
      "cell_type": "code",
      "execution_count": null,
      "metadata": {
        "id": "y-O0NQ74p9mw"
      },
      "outputs": [],
      "source": [
        "all_wealth = []\n",
        "# This runs the model 100 times, each model executing 30 steps.\n",
        "for _ in range(100):\n",
        "    # Run the model\n",
        "    model = MoneyModel(10)\n",
        "    for _ in range(30):\n",
        "        model.step()\n",
        "\n",
        "    # Store the results\n",
        "    for agent in model.agents:\n",
        "        all_wealth.append(agent.wealth)\n",
        "\n",
        "# Use seaborn\n",
        "g = sns.histplot(all_wealth, discrete=True)\n",
        "g.set(title=\"Wealth distribution\", xlabel=\"Wealth\", ylabel=\"number of agents\");"
      ]
    },
    {
      "cell_type": "markdown",
      "metadata": {
        "id": "GJ_W-Pk2p9mw"
      },
      "source": [
        "This runs 100 instantiations of the model, and runs each for 30 steps.\n",
        "\n",
        "Notice that we set the histogram bins to be integers (`discrete=True`), since agents can only have whole numbers of wealth.\n",
        "\n",
        " This distribution looks a lot smoother. By running the model 100 times, we smooth out some of the 'noise' of randomness, and get to the model's overall expected behavior.\n",
        "\n",
        "This outcome might be surprising. Despite the fact that all agents, on average, give and receive one unit of money every step, the model converges to a state where most agents have a small amount of money and a small number have a lot of money."
      ]
    },
    {
      "cell_type": "markdown",
      "metadata": {
        "id": "lwhWIbqTp9mw"
      },
      "source": [
        "### Exercise\n",
        "Change the above code to see the impact of different model runs, agent populations, and number of steps."
      ]
    },
    {
      "cell_type": "markdown",
      "metadata": {
        "id": "g-26bxjYp9mw"
      },
      "source": [
        "## Next Steps\n",
        "\n",
        "Check out the [adding space tutorial](https://mesa.readthedocs.io/latest/tutorials/1_adding_space.html) on how to build interactive dashboards for your models."
      ]
    },
    {
      "cell_type": "markdown",
      "metadata": {
        "id": "k8PW1iTVp9mw"
      },
      "source": [
        "### More Mesa\n",
        "\n",
        "If you are looking for other Mesa models or tools here are some additional resources.\n",
        "\n",
        "- Example ABMs: Find canonical examples and examples of ABMs demonstrating highlighted features in the [Examples Tab](https://mesa.readthedocs.io/stable/examples.html)\n",
        "- Expanded Examples: Want to integrate Reinforcement Learning or work on the Traveling Salesman Problem? Checkout  [Mesa Examples](https://github.com/projectmesa/mesa-examples/)\n",
        "- Mesa-Geo: If you need an ABM with Geographic Information Systems (GIS) checkout [Mesa-Geo](https://mesa-geo.readthedocs.io/latest/)\n",
        "- Mesa Frames: Have a large complex model that you need to speed up, check out [Mesa Frames](https://github.com/projectmesa/mesa-frames)"
      ]
    },
    {
      "cell_type": "markdown",
      "metadata": {
        "id": "z5WyBlKHp9mx"
      },
      "source": [
        "## Happy Modeling!\n",
        "\n",
        "This document is a work in progress.  If you see any errors, exclusions or have any problems please contact [us](https://github.com/projectmesa/mesa/issues)."
      ]
    },
    {
      "cell_type": "markdown",
      "metadata": {
        "id": "On5Iwt-Hp9mx"
      },
      "source": [
        "[Comer2014] Comer, Kenneth W. “Who Goes First? An Examination of the Impact of Activation on Outcome Behavior in AgentBased Models.” George Mason University, 2014. http://mars.gmu.edu/bitstream/handle/1920/9070/Comer_gmu_0883E_10539.pdf\n",
        "\n",
        "[Dragulescu2002] Drăgulescu, Adrian A., and Victor M. Yakovenko. “Statistical Mechanics of Money, Income, and Wealth: A Short Survey.” arXiv Preprint Cond-mat/0211175, 2002. http://arxiv.org/abs/cond-mat/0211175."
      ]
    },
    {
      "cell_type": "code",
      "execution_count": null,
      "metadata": {
        "id": "l6KLug3Mp9mx"
      },
      "outputs": [],
      "source": []
    }
  ],
  "metadata": {
    "anaconda-cloud": {},
    "kernelspec": {
      "display_name": "Python 3 (ipykernel)",
      "language": "python",
      "name": "python3"
    },
    "language_info": {
      "codemirror_mode": {
        "name": "ipython",
        "version": 3
      },
      "file_extension": ".py",
      "mimetype": "text/x-python",
      "name": "python",
      "nbconvert_exporter": "python",
      "pygments_lexer": "ipython3",
      "version": "3.12.5"
    },
    "colab": {
      "provenance": []
    }
  },
  "nbformat": 4,
  "nbformat_minor": 0
}